{
 "cells": [
  {
   "cell_type": "code",
   "execution_count": null,
   "id": "730dc61e-69f7-4cfb-b929-c85bf7d40323",
   "metadata": {},
   "outputs": [
    {
     "ename": "",
     "evalue": "",
     "output_type": "error",
     "traceback": [
      "\u001b[1;31mFailed to start the Kernel. \n",
      "\u001b[1;31m'_xsrf' argument missing from POST. \n",
      "\u001b[1;31mView Jupyter <a href='command:jupyter.viewOutput'>log</a> for further details."
     ]
    }
   ],
   "source": [
    "import sys\n",
    "sys.executable"
   ]
  },
  {
   "cell_type": "code",
   "execution_count": null,
   "id": "bbe18727-9ae2-4aeb-82e2-9860856791d6",
   "metadata": {},
   "outputs": [
    {
     "ename": "",
     "evalue": "",
     "output_type": "error",
     "traceback": [
      "\u001b[1;31mFailed to start the Kernel. \n",
      "\u001b[1;31m'_xsrf' argument missing from POST. \n",
      "\u001b[1;31mView Jupyter <a href='command:jupyter.viewOutput'>log</a> for further details."
     ]
    }
   ],
   "source": [
    "import datetime\n",
    "import psutil\n",
    "from psutil._common import bytes2human"
   ]
  },
  {
   "cell_type": "markdown",
   "id": "723c566b-c005-44c4-849f-01ef304248a1",
   "metadata": {},
   "source": [
    "# CPU"
   ]
  },
  {
   "cell_type": "code",
   "execution_count": 3,
   "id": "404911c6-57a5-4f16-8d8d-06982c0d2ea5",
   "metadata": {},
   "outputs": [
    {
     "name": "stdout",
     "output_type": "stream",
     "text": [
      "7.9\n",
      "5.1\n",
      "3.5\n",
      "2.3\n",
      "3.0\n",
      "7.4\n",
      "8.0\n",
      "7.9\n",
      "1.6\n",
      "4.2\n"
     ]
    }
   ],
   "source": [
    "for i in range(10):\n",
    "    print(psutil.cpu_percent(1))"
   ]
  },
  {
   "cell_type": "code",
   "execution_count": 13,
   "id": "c59b57a5-cf9b-44a9-92e7-c3e83cc7224b",
   "metadata": {},
   "outputs": [
    {
     "data": {
      "text/plain": [
       "(14.39, 15.69, 16.12)"
      ]
     },
     "execution_count": 13,
     "metadata": {},
     "output_type": "execute_result"
    }
   ],
   "source": [
    "psutil.getloadavg()"
   ]
  },
  {
   "cell_type": "markdown",
   "id": "b00811f7-d56f-4893-a7ea-c05f13cf6b0e",
   "metadata": {},
   "source": [
    "# Memory"
   ]
  },
  {
   "cell_type": "code",
   "execution_count": 5,
   "id": "1021003f-bb9a-4f9e-9aa9-37e36734fdbf",
   "metadata": {},
   "outputs": [],
   "source": [
    "mem = psutil.virtual_memory()"
   ]
  },
  {
   "cell_type": "code",
   "execution_count": 6,
   "id": "8e329c96-39f6-4228-b43d-3fbe369d6893",
   "metadata": {},
   "outputs": [
    {
     "data": {
      "text/plain": [
       "5.2"
      ]
     },
     "execution_count": 6,
     "metadata": {},
     "output_type": "execute_result"
    }
   ],
   "source": [
    "mem.percent"
   ]
  },
  {
   "cell_type": "markdown",
   "id": "f405fdb0-2dde-483d-bfd4-e2ba36998723",
   "metadata": {},
   "source": [
    "# Disk Usage"
   ]
  },
  {
   "cell_type": "code",
   "execution_count": 15,
   "id": "8bc2d688-fac9-426b-a583-1aa548eaabda",
   "metadata": {},
   "outputs": [
    {
     "name": "stdout",
     "output_type": "stream",
     "text": [
      "sdiskusage(total=710798011793408, used=553406586421248, free=157391425372160, percent=77.9)\n"
     ]
    }
   ],
   "source": [
    "du = psutil.disk_usage('/kellogg')\n",
    "print(du)"
   ]
  },
  {
   "cell_type": "code",
   "execution_count": 30,
   "id": "038c955c-0f73-4c9e-9c68-abc7fb842583",
   "metadata": {},
   "outputs": [
    {
     "name": "stdout",
     "output_type": "stream",
     "text": [
      "Device               Total     Used     Free   Use%\n",
      "/kellogg            646.5T   503.3T   143.1T    77%\n"
     ]
    }
   ],
   "source": [
    "templ = \"%-17s %8s %8s %8s %5s%%\"\n",
    "print(templ % (\"Device\", \"Total\", \"Used\", \"Free\", \"Use\"))\n",
    "line = templ % (\n",
    "    \"/kellogg\",\n",
    "    bytes2human(du.total),\n",
    "    bytes2human(du.used),\n",
    "    bytes2human(du.free),\n",
    "    int(du.percent),\n",
    ")\n",
    "print(line)"
   ]
  },
  {
   "cell_type": "markdown",
   "id": "089bf5b3-0a8c-4c32-b466-7778b2b844ee",
   "metadata": {},
   "source": [
    "# Boot time"
   ]
  },
  {
   "cell_type": "code",
   "execution_count": 8,
   "id": "1b543733-d604-4fac-a0c6-7d4192fd08aa",
   "metadata": {},
   "outputs": [
    {
     "data": {
      "text/plain": [
       "'2023-09-20 15:17:25'"
      ]
     },
     "execution_count": 8,
     "metadata": {},
     "output_type": "execute_result"
    }
   ],
   "source": [
    "datetime.datetime.fromtimestamp(psutil.boot_time()).strftime(\"%Y-%m-%d %H:%M:%S\")"
   ]
  },
  {
   "cell_type": "markdown",
   "id": "ed4364b3-3078-403d-8abe-d78ec087acdf",
   "metadata": {},
   "source": [
    "# Users"
   ]
  },
  {
   "cell_type": "code",
   "execution_count": 9,
   "id": "fd99699b-89cb-4404-8ad8-0c6a1a06066c",
   "metadata": {},
   "outputs": [
    {
     "data": {
      "text/plain": [
       "[suser(name='awc6034', terminal='pts/4', host='localhost', started=1695844728.0, pid=21627),\n",
       " suser(name='awc6034', terminal='pts/6', host='localhost', started=1696357066.0, pid=224305),\n",
       " suser(name='root', terminal='pts/11', host='localhost', started=1708366818.0, pid=164948),\n",
       " suser(name='wkt406', terminal='pts/13', host='localhost', started=1715115598.0, pid=6695),\n",
       " suser(name='awc6034', terminal='pts/12', host='localhost', started=1699888067.0, pid=226292)]"
      ]
     },
     "execution_count": 9,
     "metadata": {},
     "output_type": "execute_result"
    }
   ],
   "source": [
    "psutil.users()"
   ]
  },
  {
   "cell_type": "markdown",
   "id": "a4374b0e-8a93-4ef1-994e-d331cf709495",
   "metadata": {},
   "source": [
    "# Processes"
   ]
  },
  {
   "cell_type": "code",
   "execution_count": 10,
   "id": "04a2d45e-0b4a-40d7-b350-444838d85356",
   "metadata": {},
   "outputs": [],
   "source": [
    "procs = {p.pid: p.info for p in psutil.process_iter(['name', 'username'])}"
   ]
  },
  {
   "cell_type": "code",
   "execution_count": 11,
   "id": "34bc1694-91eb-4808-969a-591b5cdd8b8b",
   "metadata": {},
   "outputs": [
    {
     "name": "stdout",
     "output_type": "stream",
     "text": [
      "6695 {'username': 'wkt406', 'name': 'screen'}\n",
      "6696 {'username': 'wkt406', 'name': 'bash'}\n",
      "64867 {'username': 'wkt406', 'name': 'jupyter-lab'}\n",
      "110632 {'username': 'wkt406', 'name': 'jupyter-noteboo'}\n",
      "174366 {'username': 'wkt406', 'name': 'sshd'}\n",
      "174367 {'username': 'wkt406', 'name': 'bash'}\n",
      "174411 {'username': 'wkt406', 'name': 'bash'}\n",
      "174432 {'username': 'wkt406', 'name': 'code-e170252f762678dec6ca2cc69aba1570769a5d39'}\n",
      "174496 {'username': 'wkt406', 'name': 'sh'}\n",
      "174502 {'username': 'wkt406', 'name': 'node'}\n",
      "174524 {'username': 'wkt406', 'name': 'node'}\n",
      "175050 {'username': 'wkt406', 'name': 'node'}\n",
      "175070 {'username': 'wkt406', 'name': 'node'}\n",
      "175980 {'username': 'wkt406', 'name': 'bash'}\n",
      "177657 {'username': 'wkt406', 'name': 'node'}\n",
      "177689 {'username': 'wkt406', 'name': 'bash'}\n",
      "177848 {'username': 'wkt406', 'name': 'sh'}\n",
      "178224 {'username': 'wkt406', 'name': 'git-credential-cache--daemon'}\n",
      "178382 {'username': 'wkt406', 'name': 'sh'}\n",
      "180303 {'username': 'wkt406', 'name': 'node'}\n",
      "186593 {'username': 'wkt406', 'name': 'screen'}\n",
      "186980 {'username': 'wkt406', 'name': 'python'}\n",
      "187870 {'username': 'wkt406', 'name': 'sleep'}\n",
      "188125 {'username': 'wkt406', 'name': 'cpuUsage.sh'}\n",
      "188129 {'username': 'wkt406', 'name': 'sleep'}\n",
      "237322 {'username': 'wkt406', 'name': 'rg'}\n",
      "237570 {'username': 'wkt406', 'name': 'rg'}\n"
     ]
    }
   ],
   "source": [
    "for pid, info in procs.items():\n",
    "    if info['username'] == 'wkt406':\n",
    "        print(pid, info)"
   ]
  },
  {
   "cell_type": "code",
   "execution_count": 12,
   "id": "761d0714-0ac1-4430-a437-71b8ab28f0a2",
   "metadata": {},
   "outputs": [
    {
     "name": "stdout",
     "output_type": "stream",
     "text": [
      "python\n",
      "pcputimes(user=1.74, system=1.03, children_user=0.0, children_system=0.01, iowait=0.0)\n",
      "0.0\n",
      "1715115622.32\n",
      "64867\n",
      "running\n"
     ]
    }
   ],
   "source": [
    "p = psutil.Process(pid=None)\n",
    "with p.oneshot():\n",
    "    print(p.name())  # execute internal routine once collecting multiple info\n",
    "    print(p.cpu_times()) # return cached value\n",
    "    print(p.cpu_percent())  # return cached value\n",
    "    print(p.create_time())  # return cached value\n",
    "    print(p.ppid() ) # return cached value\n",
    "    print(p.status())  # return cached value"
   ]
  },
  {
   "cell_type": "code",
   "execution_count": null,
   "id": "1aabc271-8523-43a2-8945-d7f67b465df0",
   "metadata": {},
   "outputs": [],
   "source": []
  }
 ],
 "metadata": {
  "kernelspec": {
   "display_name": "Python 3 (ipykernel)",
   "language": "python",
   "name": "python3"
  },
  "language_info": {
   "codemirror_mode": {
    "name": "ipython",
    "version": 3
   },
   "file_extension": ".py",
   "mimetype": "text/x-python",
   "name": "python",
   "nbconvert_exporter": "python",
   "pygments_lexer": "ipython3",
   "version": "3.11.9"
  }
 },
 "nbformat": 4,
 "nbformat_minor": 5
}
